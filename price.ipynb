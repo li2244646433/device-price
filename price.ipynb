{
 "cells": [
  {
   "cell_type": "code",
   "execution_count": 1,
   "id": "142d24df-8990-4706-a863-8f99fa53e138",
   "metadata": {},
   "outputs": [
    {
     "ename": "ModuleNotFoundError",
     "evalue": "No module named 'streamlit_modal'",
     "output_type": "error",
     "traceback": [
      "\u001b[0;31m---------------------------------------------------------------------------\u001b[0m",
      "\u001b[0;31mModuleNotFoundError\u001b[0m                       Traceback (most recent call last)",
      "Cell \u001b[0;32mIn[1], line 5\u001b[0m\n\u001b[1;32m      3\u001b[0m \u001b[38;5;28;01mimport\u001b[39;00m \u001b[38;5;21;01mpandas\u001b[39;00m \u001b[38;5;28;01mas\u001b[39;00m \u001b[38;5;21;01mpd\u001b[39;00m\n\u001b[1;32m      4\u001b[0m \u001b[38;5;28;01mimport\u001b[39;00m \u001b[38;5;21;01mnumpy\u001b[39;00m \u001b[38;5;28;01mas\u001b[39;00m \u001b[38;5;21;01mnp\u001b[39;00m\n\u001b[0;32m----> 5\u001b[0m \u001b[38;5;28;01mfrom\u001b[39;00m \u001b[38;5;21;01mstreamlit_modal\u001b[39;00m \u001b[38;5;28;01mimport\u001b[39;00m Modal\n\u001b[1;32m      7\u001b[0m \u001b[38;5;28;01mimport\u001b[39;00m \u001b[38;5;21;01mstreamlit\u001b[39;00m\u001b[38;5;21;01m.\u001b[39;00m\u001b[38;5;21;01mcomponents\u001b[39;00m\u001b[38;5;21;01m.\u001b[39;00m\u001b[38;5;21;01mv1\u001b[39;00m \u001b[38;5;28;01mas\u001b[39;00m \u001b[38;5;21;01mcomponents\u001b[39;00m\n",
      "\u001b[0;31mModuleNotFoundError\u001b[0m: No module named 'streamlit_modal'"
     ]
    }
   ],
   "source": [
    "import joblib\n",
    "import streamlit as st\n",
    "import pandas as pd\n",
    "import numpy as np\n",
    "#from streamlit_modal import Modal\n",
    "import streamlit.components.v1 as components"
   ]
  },
  {
   "cell_type": "code",
   "execution_count": 9,
   "id": "a3e9626c-3010-4e0e-b492-082e59006946",
   "metadata": {},
   "outputs": [],
   "source": [
    "model = joblib.load('stack_model.joblib')"
   ]
  },
  {
   "cell_type": "code",
   "execution_count": 10,
   "id": "88897208-c4ae-4d1e-8d87-3a4a124ac74b",
   "metadata": {},
   "outputs": [],
   "source": [
    "def process_input_data(input_data):\n",
    "    # Load the column names of the preprocessed DataFrame\n",
    "    encoded_columns = joblib.load('X_columns.joblib')\n",
    "\n",
    "    # Convert the input data (which could be a dictionary) into a DataFrame\n",
    "    input_df = pd.DataFrame([input_data])\n",
    "\n",
    "    # Initialize a DataFrame with zeros for all columns saved in 'encoded_columns'\n",
    "    # This ensures that the new DataFrame has the same structure as the training data\n",
    "    processed_df = pd.DataFrame(columns=encoded_columns)\n",
    "    processed_df.loc[0] = 0\n",
    "\n",
    "    # Fill in the values for the columns present in the input data\n",
    "    for col in input_df.columns:\n",
    "        # If the column is numeric, just copy the value\n",
    "        if col in processed_df.columns:\n",
    "            processed_df[col] = input_df[col].values\n",
    "\n",
    "        # If the column is categorical, set the corresponding one-hot encoded column to 1\n",
    "        elif any(col in s for s in processed_df.columns):\n",
    "            # Find the matching column name and set it to 1\n",
    "            matching_column = [s for s in processed_df.columns if col in s][0]\n",
    "            processed_df[matching_column] = 1\n",
    "\n",
    "    return processed_df"
   ]
  },
  {
   "cell_type": "code",
   "execution_count": 11,
   "id": "fb5df455-cffc-4a8e-86dd-97fc27d3e415",
   "metadata": {},
   "outputs": [],
   "source": [
    "st.title('Used Mobile Phone Price Calculator')\n",
    "\n",
    "# Creating input widgets for each feature\n",
    "amazon_price = st.number_input('Price for Brand-new one', value = 699.00,min_value=0.0, format='%f')\n",
    "Screen_Size = st.number_input('Screen Size (inches)', value = 6.0,min_value=0.0, format='%f')\n",
    "RAM = st.number_input('RAM (GB)',value = 6, min_value=0, format='%d')\n",
    "Storage_Capacity = st.number_input('Storage Capacity (GB)', value=64,min_value=0, format='%d')\n",
    "YEAR = st.number_input('Year when the device model was released', min_value=2009, max_value=2023, step=1)\n",
    "Condition = st.selectbox('Condition', options=['brand-new', 'open box_excellent', 'refurbished', 'used',\n",
    "       'parts or not working', 'original box', 'unknown'])\n",
    "Network = st.selectbox('Network', options=['unlocked', 'restricted', 'unknown'])\n",
    "Lock_Status = st.selectbox('Lock Status', options=['unlocked', 'locked', 'unknown'])\n",
    "Contract = st.selectbox('Contract', options=['Without Contract', 'unknown', 'Prepaid', 'With Contract',\n",
    "       'Pay as go'])\n",
    "Brand = st.selectbox('Brand', options=['samsung', 'apple', 'others', 'nokia', 'sony'])\n",
    "Operating_system = st.selectbox('Operating System', options=['android', 'ios'])\n",
    "\n",
    "# When the user clicks the predict button, process the input and make a prediction\n",
    "if st.button('Press to Predict'):\n",
    "    # Create a dictionary from the inputs\n",
    "    input_data = {\n",
    "        'amazon_price': amazon_price,\n",
    "        'Screen Size':Screen_Size,\n",
    "        'RAM': RAM,\n",
    "        'Storage Capacity': Storage_Capacity,\n",
    "        'YEAR': YEAR,\n",
    "        # Append '_<category>' to the categorical inputs to match the One-Hot Encoded format\n",
    "        f'Condition_{Condition}': 1,\n",
    "        f'Network_{Network}': 1,\n",
    "        f'Lock Status_{Lock_Status}': 1,\n",
    "        f'Contract_{Contract}': 1,\n",
    "        f'Brand_{Brand}': 1,\n",
    "        f'Operating_System_{Operating_system}': 1\n",
    "    }\n",
    "\n",
    "    # Process the input data to match the trained model's format\n",
    "    processed_data = process_input_data(input_data)\n",
    "\n",
    "    # Make a prediction\n",
    "    prediction = model.predict(processed_data)\n",
    "\n",
    "    # Display the prediction\n",
    "    #st.write(f\"Predicted Amazon Price: ${prediction[0]:.2f}\")\n",
    "    st.markdown(f\"<div class='big-font'>Estimated Price: ${prediction[0]:.2f}</div>\", unsafe_allow_html=True)\n",
    "\n",
    "# CSS to increase font size\n",
    "st.markdown(\"\"\"\n",
    "<style>\n",
    ".big-font {\n",
    "    font-size:42px !important;\n",
    "    font-weight: bold;\n",
    "}\n",
    "</style>\n",
    "\"\"\", unsafe_allow_html=True)\n",
    "    \n"
   ]
  },
  {
   "cell_type": "code",
   "execution_count": null,
   "id": "fe2d5a3b-2fe2-4fd2-b214-54f5095ef131",
   "metadata": {},
   "outputs": [],
   "source": []
  },
  {
   "cell_type": "code",
   "execution_count": null,
   "id": "89cba807-8317-41c9-9a2a-f02bab9e07c6",
   "metadata": {},
   "outputs": [],
   "source": []
  }
 ],
 "metadata": {
  "kernelspec": {
   "display_name": "Python 3 (ipykernel)",
   "language": "python",
   "name": "python3"
  },
  "language_info": {
   "codemirror_mode": {
    "name": "ipython",
    "version": 3
   },
   "file_extension": ".py",
   "mimetype": "text/x-python",
   "name": "python",
   "nbconvert_exporter": "python",
   "pygments_lexer": "ipython3",
   "version": "3.11.6"
  }
 },
 "nbformat": 4,
 "nbformat_minor": 5
}
